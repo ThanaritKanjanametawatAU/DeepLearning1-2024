{
 "cells": [
  {
   "cell_type": "markdown",
   "source": [
    "# 0. Importing the necessary libraries and Dataset"
   ],
   "metadata": {
    "collapsed": false
   },
   "id": "ad006312a7c0a528"
  },
  {
   "cell_type": "code",
   "outputs": [
    {
     "data": {
      "text/plain": "((150, 4), (150,), dtype('float64'), dtype('<U15'))"
     },
     "execution_count": 1,
     "metadata": {},
     "output_type": "execute_result"
    }
   ],
   "source": [
    "import numpy as np\n",
    "import pandas as pd\n",
    "import matplotlib.pyplot as plt\n",
    "from keras.models import Sequential\n",
    "from keras.layers import Dense\n",
    "from sklearn.preprocessing import OneHotEncoder\n",
    "np.random.seed(0)\n",
    "\n",
    "# Load the iris dataset\n",
    "IrisData = np.loadtxt('dataset/iris.data', delimiter=',', usecols=(0, 1, 2, 3), skiprows=0)\n",
    "IrisLabels = np.loadtxt('dataset/iris.data', delimiter=',', usecols=(4), dtype=str, skiprows=0)\n",
    "\n",
    "\n",
    "IrisData.shape, IrisLabels.shape, IrisData.dtype, IrisLabels.dtype"
   ],
   "metadata": {
    "collapsed": false,
    "ExecuteTime": {
     "end_time": "2024-06-19T04:20:02.793652Z",
     "start_time": "2024-06-19T04:19:54.387599Z"
    }
   },
   "id": "initial_id",
   "execution_count": 1
  },
  {
   "cell_type": "markdown",
   "source": [
    "## 0.1 Data Exploration"
   ],
   "metadata": {
    "collapsed": false
   },
   "id": "ae3c59719ce8baa4"
  },
  {
   "cell_type": "code",
   "outputs": [
    {
     "data": {
      "text/plain": "(array([[5.1, 3.5, 1.4, 0.2],\n        [4.9, 3. , 1.4, 0.2],\n        [4.7, 3.2, 1.3, 0.2],\n        [4.6, 3.1, 1.5, 0.2],\n        [5. , 3.6, 1.4, 0.2]]),\n array(['Iris-setosa', 'Iris-setosa', 'Iris-setosa', 'Iris-setosa',\n        'Iris-setosa'], dtype='<U15'))"
     },
     "execution_count": 2,
     "metadata": {},
     "output_type": "execute_result"
    }
   ],
   "source": [
    " IrisData[:5], IrisLabels[:5]"
   ],
   "metadata": {
    "collapsed": false,
    "ExecuteTime": {
     "end_time": "2024-06-19T04:20:02.804565Z",
     "start_time": "2024-06-19T04:20:02.795662Z"
    }
   },
   "id": "dd1f6862c3670e6a",
   "execution_count": 2
  },
  {
   "cell_type": "code",
   "outputs": [
    {
     "data": {
      "text/plain": "(array([[6.7, 3. , 5.2, 2.3],\n        [6.3, 2.5, 5. , 1.9],\n        [6.5, 3. , 5.2, 2. ],\n        [6.2, 3.4, 5.4, 2.3],\n        [5.9, 3. , 5.1, 1.8]]),\n array(['Iris-virginica', 'Iris-virginica', 'Iris-virginica',\n        'Iris-virginica', 'Iris-virginica'], dtype='<U15'))"
     },
     "execution_count": 3,
     "metadata": {},
     "output_type": "execute_result"
    }
   ],
   "source": [
    "IrisData[-5:], IrisLabels[-5:]"
   ],
   "metadata": {
    "collapsed": false,
    "ExecuteTime": {
     "end_time": "2024-06-19T04:20:02.816850Z",
     "start_time": "2024-06-19T04:20:02.805574Z"
    }
   },
   "id": "7caa4c836de43845",
   "execution_count": 3
  },
  {
   "cell_type": "code",
   "outputs": [
    {
     "data": {
      "text/plain": "       Sepal Length  Sepal Width  Petal Length  Petal Width\ncount    150.000000   150.000000    150.000000   150.000000\nmean       5.843333     3.054000      3.758667     1.198667\nstd        0.828066     0.433594      1.764420     0.763161\nmin        4.300000     2.000000      1.000000     0.100000\n25%        5.100000     2.800000      1.600000     0.300000\n50%        5.800000     3.000000      4.350000     1.300000\n75%        6.400000     3.300000      5.100000     1.800000\nmax        7.900000     4.400000      6.900000     2.500000",
      "text/html": "<div>\n<style scoped>\n    .dataframe tbody tr th:only-of-type {\n        vertical-align: middle;\n    }\n\n    .dataframe tbody tr th {\n        vertical-align: top;\n    }\n\n    .dataframe thead th {\n        text-align: right;\n    }\n</style>\n<table border=\"1\" class=\"dataframe\">\n  <thead>\n    <tr style=\"text-align: right;\">\n      <th></th>\n      <th>Sepal Length</th>\n      <th>Sepal Width</th>\n      <th>Petal Length</th>\n      <th>Petal Width</th>\n    </tr>\n  </thead>\n  <tbody>\n    <tr>\n      <th>count</th>\n      <td>150.000000</td>\n      <td>150.000000</td>\n      <td>150.000000</td>\n      <td>150.000000</td>\n    </tr>\n    <tr>\n      <th>mean</th>\n      <td>5.843333</td>\n      <td>3.054000</td>\n      <td>3.758667</td>\n      <td>1.198667</td>\n    </tr>\n    <tr>\n      <th>std</th>\n      <td>0.828066</td>\n      <td>0.433594</td>\n      <td>1.764420</td>\n      <td>0.763161</td>\n    </tr>\n    <tr>\n      <th>min</th>\n      <td>4.300000</td>\n      <td>2.000000</td>\n      <td>1.000000</td>\n      <td>0.100000</td>\n    </tr>\n    <tr>\n      <th>25%</th>\n      <td>5.100000</td>\n      <td>2.800000</td>\n      <td>1.600000</td>\n      <td>0.300000</td>\n    </tr>\n    <tr>\n      <th>50%</th>\n      <td>5.800000</td>\n      <td>3.000000</td>\n      <td>4.350000</td>\n      <td>1.300000</td>\n    </tr>\n    <tr>\n      <th>75%</th>\n      <td>6.400000</td>\n      <td>3.300000</td>\n      <td>5.100000</td>\n      <td>1.800000</td>\n    </tr>\n    <tr>\n      <th>max</th>\n      <td>7.900000</td>\n      <td>4.400000</td>\n      <td>6.900000</td>\n      <td>2.500000</td>\n    </tr>\n  </tbody>\n</table>\n</div>"
     },
     "execution_count": 4,
     "metadata": {},
     "output_type": "execute_result"
    }
   ],
   "source": [
    "# Use Pandas\n",
    "IrisDataPanda = pd.DataFrame(IrisData, columns=['Sepal Length', 'Sepal Width', 'Petal Length', 'Petal Width'])\n",
    "IrisDataPanda.describe()"
   ],
   "metadata": {
    "collapsed": false,
    "ExecuteTime": {
     "end_time": "2024-06-19T04:20:02.845117Z",
     "start_time": "2024-06-19T04:20:02.818866Z"
    }
   },
   "id": "9604338cba3d3824",
   "execution_count": 4
  },
  {
   "cell_type": "markdown",
   "source": [
    "# 1. Data Preprocessing"
   ],
   "metadata": {
    "collapsed": false
   },
   "id": "dc9c9227c1a20b3f"
  },
  {
   "cell_type": "markdown",
   "source": [
    "## 1.1 Normalizing the data"
   ],
   "metadata": {
    "collapsed": false
   },
   "id": "7ab9263bd05d5d70"
  },
  {
   "cell_type": "code",
   "outputs": [
    {
     "data": {
      "text/plain": "array([[0.22222222, 0.625     , 0.06779661, 0.04166667],\n       [0.16666667, 0.41666667, 0.06779661, 0.04166667],\n       [0.11111111, 0.5       , 0.05084746, 0.04166667],\n       [0.08333333, 0.45833333, 0.08474576, 0.04166667],\n       [0.19444444, 0.66666667, 0.06779661, 0.04166667]])"
     },
     "execution_count": 5,
     "metadata": {},
     "output_type": "execute_result"
    }
   ],
   "source": [
    "# Normalizing the data using sklearn\n",
    "from sklearn.preprocessing import MinMaxScaler\n",
    "\n",
    "scaler = MinMaxScaler()\n",
    "IrisData = scaler.fit_transform(IrisData)\n",
    "IrisData[:5]"
   ],
   "metadata": {
    "collapsed": false,
    "ExecuteTime": {
     "end_time": "2024-06-19T04:20:02.856697Z",
     "start_time": "2024-06-19T04:20:02.848727Z"
    }
   },
   "id": "3ac152bac1f0f702",
   "execution_count": 5
  },
  {
   "cell_type": "code",
   "outputs": [
    {
     "data": {
      "text/plain": "       Sepal Length  Sepal Width  Petal Length  Petal Width\ncount    150.000000   150.000000    150.000000   150.000000\nmean       0.428704     0.439167      0.467571     0.457778\nstd        0.230018     0.180664      0.299054     0.317984\nmin        0.000000     0.000000      0.000000     0.000000\n25%        0.222222     0.333333      0.101695     0.083333\n50%        0.416667     0.416667      0.567797     0.500000\n75%        0.583333     0.541667      0.694915     0.708333\nmax        1.000000     1.000000      1.000000     1.000000",
      "text/html": "<div>\n<style scoped>\n    .dataframe tbody tr th:only-of-type {\n        vertical-align: middle;\n    }\n\n    .dataframe tbody tr th {\n        vertical-align: top;\n    }\n\n    .dataframe thead th {\n        text-align: right;\n    }\n</style>\n<table border=\"1\" class=\"dataframe\">\n  <thead>\n    <tr style=\"text-align: right;\">\n      <th></th>\n      <th>Sepal Length</th>\n      <th>Sepal Width</th>\n      <th>Petal Length</th>\n      <th>Petal Width</th>\n    </tr>\n  </thead>\n  <tbody>\n    <tr>\n      <th>count</th>\n      <td>150.000000</td>\n      <td>150.000000</td>\n      <td>150.000000</td>\n      <td>150.000000</td>\n    </tr>\n    <tr>\n      <th>mean</th>\n      <td>0.428704</td>\n      <td>0.439167</td>\n      <td>0.467571</td>\n      <td>0.457778</td>\n    </tr>\n    <tr>\n      <th>std</th>\n      <td>0.230018</td>\n      <td>0.180664</td>\n      <td>0.299054</td>\n      <td>0.317984</td>\n    </tr>\n    <tr>\n      <th>min</th>\n      <td>0.000000</td>\n      <td>0.000000</td>\n      <td>0.000000</td>\n      <td>0.000000</td>\n    </tr>\n    <tr>\n      <th>25%</th>\n      <td>0.222222</td>\n      <td>0.333333</td>\n      <td>0.101695</td>\n      <td>0.083333</td>\n    </tr>\n    <tr>\n      <th>50%</th>\n      <td>0.416667</td>\n      <td>0.416667</td>\n      <td>0.567797</td>\n      <td>0.500000</td>\n    </tr>\n    <tr>\n      <th>75%</th>\n      <td>0.583333</td>\n      <td>0.541667</td>\n      <td>0.694915</td>\n      <td>0.708333</td>\n    </tr>\n    <tr>\n      <th>max</th>\n      <td>1.000000</td>\n      <td>1.000000</td>\n      <td>1.000000</td>\n      <td>1.000000</td>\n    </tr>\n  </tbody>\n</table>\n</div>"
     },
     "execution_count": 6,
     "metadata": {},
     "output_type": "execute_result"
    }
   ],
   "source": [
    "# Use Pandas\n",
    "IrisDataPanda = pd.DataFrame(IrisData, columns=['Sepal Length', 'Sepal Width', 'Petal Length', 'Petal Width'])\n",
    "IrisDataPanda.describe()"
   ],
   "metadata": {
    "collapsed": false,
    "ExecuteTime": {
     "end_time": "2024-06-19T04:20:02.890800Z",
     "start_time": "2024-06-19T04:20:02.857704Z"
    }
   },
   "id": "551054c354df2fd4",
   "execution_count": 6
  },
  {
   "cell_type": "markdown",
   "source": [
    "## 1.2 One Hot Encoding the Labels"
   ],
   "metadata": {
    "collapsed": false
   },
   "id": "d736b0874d06ab7e"
  },
  {
   "cell_type": "code",
   "outputs": [
    {
     "data": {
      "text/plain": "array([[1., 0., 0.],\n       [1., 0., 0.],\n       [1., 0., 0.],\n       [1., 0., 0.],\n       [1., 0., 0.]])"
     },
     "execution_count": 7,
     "metadata": {},
     "output_type": "execute_result"
    }
   ],
   "source": [
    "# One hot encoding the labels\n",
    "from sklearn.preprocessing import OneHotEncoder\n",
    "\n",
    "encoder = OneHotEncoder()\n",
    "IrisLabels = encoder.fit_transform(IrisLabels.reshape(-1, 1)).toarray()\n",
    "IrisLabels[:5]"
   ],
   "metadata": {
    "collapsed": false,
    "ExecuteTime": {
     "end_time": "2024-06-19T04:20:02.903483Z",
     "start_time": "2024-06-19T04:20:02.892846Z"
    }
   },
   "id": "f89c7104d11840a5",
   "execution_count": 7
  },
  {
   "cell_type": "markdown",
   "source": [
    "## 1.3 Splitting the data into training and testing sets"
   ],
   "metadata": {
    "collapsed": false
   },
   "id": "a2c64c2e922d2b7b"
  },
  {
   "cell_type": "code",
   "outputs": [
    {
     "data": {
      "text/plain": "((120, 4), (30, 4), (120, 3), (30, 3))"
     },
     "execution_count": 8,
     "metadata": {},
     "output_type": "execute_result"
    }
   ],
   "source": [
    "# Splitting the data into training and testing sets\n",
    "np.random.seed(0)\n",
    "from sklearn.model_selection import train_test_split\n",
    "\n",
    "X_train, X_test, y_train, y_test = train_test_split(IrisData, IrisLabels, test_size=0.2)\n",
    "X_train.shape, X_test.shape, y_train.shape, y_test.shape"
   ],
   "metadata": {
    "collapsed": false,
    "ExecuteTime": {
     "end_time": "2024-06-19T04:20:03.000842Z",
     "start_time": "2024-06-19T04:20:02.903483Z"
    }
   },
   "id": "630f751a61163c4e",
   "execution_count": 8
  },
  {
   "cell_type": "markdown",
   "source": [
    "# 2. Building the Neural Network"
   ],
   "metadata": {
    "collapsed": false
   },
   "id": "e610816ae2d06ed7"
  },
  {
   "cell_type": "code",
   "outputs": [
    {
     "name": "stderr",
     "output_type": "stream",
     "text": [
      "D:\\Pythons\\Python3119\\Lib\\site-packages\\keras\\src\\layers\\core\\dense.py:87: UserWarning: Do not pass an `input_shape`/`input_dim` argument to a layer. When using Sequential models, prefer using an `Input(shape)` object as the first layer in the model instead.\n",
      "  super().__init__(activity_regularizer=activity_regularizer, **kwargs)\n"
     ]
    },
    {
     "data": {
      "text/plain": "\u001B[1mModel: \"sequential\"\u001B[0m\n",
      "text/html": "<pre style=\"white-space:pre;overflow-x:auto;line-height:normal;font-family:Menlo,'DejaVu Sans Mono',consolas,'Courier New',monospace\"><span style=\"font-weight: bold\">Model: \"sequential\"</span>\n</pre>\n"
     },
     "metadata": {},
     "output_type": "display_data"
    },
    {
     "data": {
      "text/plain": "┏━━━━━━━━━━━━━━━━━━━━━━━━━━━━━━━━━┳━━━━━━━━━━━━━━━━━━━━━━━━┳━━━━━━━━━━━━━━━┓\n┃\u001B[1m \u001B[0m\u001B[1mLayer (type)                   \u001B[0m\u001B[1m \u001B[0m┃\u001B[1m \u001B[0m\u001B[1mOutput Shape          \u001B[0m\u001B[1m \u001B[0m┃\u001B[1m \u001B[0m\u001B[1m      Param #\u001B[0m\u001B[1m \u001B[0m┃\n┡━━━━━━━━━━━━━━━━━━━━━━━━━━━━━━━━━╇━━━━━━━━━━━━━━━━━━━━━━━━╇━━━━━━━━━━━━━━━┩\n│ dense (\u001B[38;5;33mDense\u001B[0m)                   │ (\u001B[38;5;45mNone\u001B[0m, \u001B[38;5;34m8\u001B[0m)              │            \u001B[38;5;34m40\u001B[0m │\n├─────────────────────────────────┼────────────────────────┼───────────────┤\n│ dense_1 (\u001B[38;5;33mDense\u001B[0m)                 │ (\u001B[38;5;45mNone\u001B[0m, \u001B[38;5;34m8\u001B[0m)              │            \u001B[38;5;34m72\u001B[0m │\n├─────────────────────────────────┼────────────────────────┼───────────────┤\n│ dense_2 (\u001B[38;5;33mDense\u001B[0m)                 │ (\u001B[38;5;45mNone\u001B[0m, \u001B[38;5;34m3\u001B[0m)              │            \u001B[38;5;34m27\u001B[0m │\n└─────────────────────────────────┴────────────────────────┴───────────────┘\n",
      "text/html": "<pre style=\"white-space:pre;overflow-x:auto;line-height:normal;font-family:Menlo,'DejaVu Sans Mono',consolas,'Courier New',monospace\">┏━━━━━━━━━━━━━━━━━━━━━━━━━━━━━━━━━┳━━━━━━━━━━━━━━━━━━━━━━━━┳━━━━━━━━━━━━━━━┓\n┃<span style=\"font-weight: bold\"> Layer (type)                    </span>┃<span style=\"font-weight: bold\"> Output Shape           </span>┃<span style=\"font-weight: bold\">       Param # </span>┃\n┡━━━━━━━━━━━━━━━━━━━━━━━━━━━━━━━━━╇━━━━━━━━━━━━━━━━━━━━━━━━╇━━━━━━━━━━━━━━━┩\n│ dense (<span style=\"color: #0087ff; text-decoration-color: #0087ff\">Dense</span>)                   │ (<span style=\"color: #00d7ff; text-decoration-color: #00d7ff\">None</span>, <span style=\"color: #00af00; text-decoration-color: #00af00\">8</span>)              │            <span style=\"color: #00af00; text-decoration-color: #00af00\">40</span> │\n├─────────────────────────────────┼────────────────────────┼───────────────┤\n│ dense_1 (<span style=\"color: #0087ff; text-decoration-color: #0087ff\">Dense</span>)                 │ (<span style=\"color: #00d7ff; text-decoration-color: #00d7ff\">None</span>, <span style=\"color: #00af00; text-decoration-color: #00af00\">8</span>)              │            <span style=\"color: #00af00; text-decoration-color: #00af00\">72</span> │\n├─────────────────────────────────┼────────────────────────┼───────────────┤\n│ dense_2 (<span style=\"color: #0087ff; text-decoration-color: #0087ff\">Dense</span>)                 │ (<span style=\"color: #00d7ff; text-decoration-color: #00d7ff\">None</span>, <span style=\"color: #00af00; text-decoration-color: #00af00\">3</span>)              │            <span style=\"color: #00af00; text-decoration-color: #00af00\">27</span> │\n└─────────────────────────────────┴────────────────────────┴───────────────┘\n</pre>\n"
     },
     "metadata": {},
     "output_type": "display_data"
    },
    {
     "data": {
      "text/plain": "\u001B[1m Total params: \u001B[0m\u001B[38;5;34m139\u001B[0m (556.00 B)\n",
      "text/html": "<pre style=\"white-space:pre;overflow-x:auto;line-height:normal;font-family:Menlo,'DejaVu Sans Mono',consolas,'Courier New',monospace\"><span style=\"font-weight: bold\"> Total params: </span><span style=\"color: #00af00; text-decoration-color: #00af00\">139</span> (556.00 B)\n</pre>\n"
     },
     "metadata": {},
     "output_type": "display_data"
    },
    {
     "data": {
      "text/plain": "\u001B[1m Trainable params: \u001B[0m\u001B[38;5;34m139\u001B[0m (556.00 B)\n",
      "text/html": "<pre style=\"white-space:pre;overflow-x:auto;line-height:normal;font-family:Menlo,'DejaVu Sans Mono',consolas,'Courier New',monospace\"><span style=\"font-weight: bold\"> Trainable params: </span><span style=\"color: #00af00; text-decoration-color: #00af00\">139</span> (556.00 B)\n</pre>\n"
     },
     "metadata": {},
     "output_type": "display_data"
    },
    {
     "data": {
      "text/plain": "\u001B[1m Non-trainable params: \u001B[0m\u001B[38;5;34m0\u001B[0m (0.00 B)\n",
      "text/html": "<pre style=\"white-space:pre;overflow-x:auto;line-height:normal;font-family:Menlo,'DejaVu Sans Mono',consolas,'Courier New',monospace\"><span style=\"font-weight: bold\"> Non-trainable params: </span><span style=\"color: #00af00; text-decoration-color: #00af00\">0</span> (0.00 B)\n</pre>\n"
     },
     "metadata": {},
     "output_type": "display_data"
    }
   ],
   "source": [
    "# Building the Deep Neural Network 4-8-8-3\n",
    "# 4 input nodes, 8 hidden nodes, 8 hidden nodes, 3 output nodes\n",
    "# Using the sigmoid activation function for the hidden layers and softmax for the output layer\n",
    "# Using the categorical_crossentropy loss function and adam optimizer\n",
    "\n",
    "model = Sequential()\n",
    "model.add(Dense(8, input_dim=4, activation='sigmoid'))\n",
    "model.add(Dense(8, activation='sigmoid'))\n",
    "model.add(Dense(3, activation='softmax'))\n",
    "model.compile(loss='categorical_crossentropy', optimizer='adam', metrics=['accuracy'])\n",
    "model.summary()"
   ],
   "metadata": {
    "collapsed": false,
    "ExecuteTime": {
     "end_time": "2024-06-19T04:20:03.151155Z",
     "start_time": "2024-06-19T04:20:03.002853Z"
    }
   },
   "id": "20a2588adddeb337",
   "execution_count": 9
  },
  {
   "cell_type": "markdown",
   "source": [
    "# 3. Training the Neural Network"
   ],
   "metadata": {
    "collapsed": false
   },
   "id": "8d945ddc4c984012"
  },
  {
   "cell_type": "code",
   "outputs": [
    {
     "name": "stdout",
     "output_type": "stream",
     "text": [
      "Epoch 1/100\n",
      "\u001B[1m120/120\u001B[0m \u001B[32m━━━━━━━━━━━━━━━━━━━━\u001B[0m\u001B[37m\u001B[0m \u001B[1m2s\u001B[0m 4ms/step - accuracy: 0.2712 - loss: 1.1654 - val_accuracy: 0.3667 - val_loss: 1.1314\n",
      "Epoch 2/100\n",
      "\u001B[1m120/120\u001B[0m \u001B[32m━━━━━━━━━━━━━━━━━━━━\u001B[0m\u001B[37m\u001B[0m \u001B[1m0s\u001B[0m 2ms/step - accuracy: 0.3527 - loss: 1.0945 - val_accuracy: 0.5667 - val_loss: 1.1214\n",
      "Epoch 3/100\n",
      "\u001B[1m120/120\u001B[0m \u001B[32m━━━━━━━━━━━━━━━━━━━━\u001B[0m\u001B[37m\u001B[0m \u001B[1m0s\u001B[0m 2ms/step - accuracy: 0.5702 - loss: 1.0908 - val_accuracy: 0.2000 - val_loss: 1.1172\n",
      "Epoch 4/100\n",
      "\u001B[1m120/120\u001B[0m \u001B[32m━━━━━━━━━━━━━━━━━━━━\u001B[0m\u001B[37m\u001B[0m \u001B[1m0s\u001B[0m 2ms/step - accuracy: 0.3961 - loss: 1.0842 - val_accuracy: 0.2000 - val_loss: 1.1165\n",
      "Epoch 5/100\n",
      "\u001B[1m120/120\u001B[0m \u001B[32m━━━━━━━━━━━━━━━━━━━━\u001B[0m\u001B[37m\u001B[0m \u001B[1m0s\u001B[0m 2ms/step - accuracy: 0.3768 - loss: 1.0871 - val_accuracy: 0.2000 - val_loss: 1.1076\n",
      "Epoch 6/100\n",
      "\u001B[1m120/120\u001B[0m \u001B[32m━━━━━━━━━━━━━━━━━━━━\u001B[0m\u001B[37m\u001B[0m \u001B[1m0s\u001B[0m 2ms/step - accuracy: 0.3839 - loss: 1.0703 - val_accuracy: 0.2000 - val_loss: 1.0993\n",
      "Epoch 7/100\n",
      "\u001B[1m120/120\u001B[0m \u001B[32m━━━━━━━━━━━━━━━━━━━━\u001B[0m\u001B[37m\u001B[0m \u001B[1m0s\u001B[0m 2ms/step - accuracy: 0.5507 - loss: 1.0643 - val_accuracy: 0.2000 - val_loss: 1.0962\n",
      "Epoch 8/100\n",
      "\u001B[1m120/120\u001B[0m \u001B[32m━━━━━━━━━━━━━━━━━━━━\u001B[0m\u001B[37m\u001B[0m \u001B[1m0s\u001B[0m 2ms/step - accuracy: 0.4062 - loss: 1.0539 - val_accuracy: 0.4333 - val_loss: 1.0807\n",
      "Epoch 9/100\n",
      "\u001B[1m120/120\u001B[0m \u001B[32m━━━━━━━━━━━━━━━━━━━━\u001B[0m\u001B[37m\u001B[0m \u001B[1m0s\u001B[0m 2ms/step - accuracy: 0.5031 - loss: 1.0355 - val_accuracy: 0.5667 - val_loss: 1.0661\n",
      "Epoch 10/100\n",
      "\u001B[1m120/120\u001B[0m \u001B[32m━━━━━━━━━━━━━━━━━━━━\u001B[0m\u001B[37m\u001B[0m \u001B[1m0s\u001B[0m 2ms/step - accuracy: 0.7201 - loss: 1.0283 - val_accuracy: 0.5667 - val_loss: 1.0576\n",
      "Epoch 11/100\n",
      "\u001B[1m120/120\u001B[0m \u001B[32m━━━━━━━━━━━━━━━━━━━━\u001B[0m\u001B[37m\u001B[0m \u001B[1m0s\u001B[0m 2ms/step - accuracy: 0.6703 - loss: 1.0261 - val_accuracy: 0.5667 - val_loss: 1.0456\n",
      "Epoch 12/100\n",
      "\u001B[1m120/120\u001B[0m \u001B[32m━━━━━━━━━━━━━━━━━━━━\u001B[0m\u001B[37m\u001B[0m \u001B[1m0s\u001B[0m 2ms/step - accuracy: 0.7725 - loss: 0.9809 - val_accuracy: 0.5667 - val_loss: 1.0232\n",
      "Epoch 13/100\n",
      "\u001B[1m120/120\u001B[0m \u001B[32m━━━━━━━━━━━━━━━━━━━━\u001B[0m\u001B[37m\u001B[0m \u001B[1m0s\u001B[0m 2ms/step - accuracy: 0.6644 - loss: 0.9910 - val_accuracy: 0.5667 - val_loss: 1.0037\n",
      "Epoch 14/100\n",
      "\u001B[1m120/120\u001B[0m \u001B[32m━━━━━━━━━━━━━━━━━━━━\u001B[0m\u001B[37m\u001B[0m \u001B[1m0s\u001B[0m 2ms/step - accuracy: 0.6331 - loss: 0.9799 - val_accuracy: 0.5667 - val_loss: 0.9857\n",
      "Epoch 15/100\n",
      "\u001B[1m120/120\u001B[0m \u001B[32m━━━━━━━━━━━━━━━━━━━━\u001B[0m\u001B[37m\u001B[0m \u001B[1m0s\u001B[0m 2ms/step - accuracy: 0.6944 - loss: 0.9359 - val_accuracy: 0.5667 - val_loss: 0.9572\n",
      "Epoch 16/100\n",
      "\u001B[1m120/120\u001B[0m \u001B[32m━━━━━━━━━━━━━━━━━━━━\u001B[0m\u001B[37m\u001B[0m \u001B[1m0s\u001B[0m 2ms/step - accuracy: 0.6610 - loss: 0.9268 - val_accuracy: 0.5667 - val_loss: 0.9305\n",
      "Epoch 17/100\n",
      "\u001B[1m120/120\u001B[0m \u001B[32m━━━━━━━━━━━━━━━━━━━━\u001B[0m\u001B[37m\u001B[0m \u001B[1m0s\u001B[0m 2ms/step - accuracy: 0.6485 - loss: 0.8994 - val_accuracy: 0.5667 - val_loss: 0.8992\n",
      "Epoch 18/100\n",
      "\u001B[1m120/120\u001B[0m \u001B[32m━━━━━━━━━━━━━━━━━━━━\u001B[0m\u001B[37m\u001B[0m \u001B[1m0s\u001B[0m 2ms/step - accuracy: 0.6579 - loss: 0.8689 - val_accuracy: 0.5667 - val_loss: 0.8722\n",
      "Epoch 19/100\n",
      "\u001B[1m120/120\u001B[0m \u001B[32m━━━━━━━━━━━━━━━━━━━━\u001B[0m\u001B[37m\u001B[0m \u001B[1m0s\u001B[0m 2ms/step - accuracy: 0.6683 - loss: 0.8315 - val_accuracy: 0.5667 - val_loss: 0.8440\n",
      "Epoch 20/100\n",
      "\u001B[1m120/120\u001B[0m \u001B[32m━━━━━━━━━━━━━━━━━━━━\u001B[0m\u001B[37m\u001B[0m \u001B[1m0s\u001B[0m 2ms/step - accuracy: 0.6659 - loss: 0.7936 - val_accuracy: 0.5667 - val_loss: 0.8054\n",
      "Epoch 21/100\n",
      "\u001B[1m120/120\u001B[0m \u001B[32m━━━━━━━━━━━━━━━━━━━━\u001B[0m\u001B[37m\u001B[0m \u001B[1m0s\u001B[0m 2ms/step - accuracy: 0.6626 - loss: 0.7771 - val_accuracy: 0.5667 - val_loss: 0.7789\n",
      "Epoch 22/100\n",
      "\u001B[1m120/120\u001B[0m \u001B[32m━━━━━━━━━━━━━━━━━━━━\u001B[0m\u001B[37m\u001B[0m \u001B[1m0s\u001B[0m 2ms/step - accuracy: 0.6706 - loss: 0.7361 - val_accuracy: 0.5667 - val_loss: 0.7459\n",
      "Epoch 23/100\n",
      "\u001B[1m120/120\u001B[0m \u001B[32m━━━━━━━━━━━━━━━━━━━━\u001B[0m\u001B[37m\u001B[0m \u001B[1m0s\u001B[0m 2ms/step - accuracy: 0.6616 - loss: 0.7096 - val_accuracy: 0.5667 - val_loss: 0.7209\n",
      "Epoch 24/100\n",
      "\u001B[1m120/120\u001B[0m \u001B[32m━━━━━━━━━━━━━━━━━━━━\u001B[0m\u001B[37m\u001B[0m \u001B[1m0s\u001B[0m 2ms/step - accuracy: 0.7362 - loss: 0.6516 - val_accuracy: 0.6000 - val_loss: 0.6860\n",
      "Epoch 25/100\n",
      "\u001B[1m120/120\u001B[0m \u001B[32m━━━━━━━━━━━━━━━━━━━━\u001B[0m\u001B[37m\u001B[0m \u001B[1m0s\u001B[0m 2ms/step - accuracy: 0.6931 - loss: 0.6329 - val_accuracy: 0.6000 - val_loss: 0.6648\n",
      "Epoch 26/100\n",
      "\u001B[1m120/120\u001B[0m \u001B[32m━━━━━━━━━━━━━━━━━━━━\u001B[0m\u001B[37m\u001B[0m \u001B[1m0s\u001B[0m 2ms/step - accuracy: 0.6736 - loss: 0.6356 - val_accuracy: 0.6000 - val_loss: 0.6393\n",
      "Epoch 27/100\n",
      "\u001B[1m120/120\u001B[0m \u001B[32m━━━━━━━━━━━━━━━━━━━━\u001B[0m\u001B[37m\u001B[0m \u001B[1m0s\u001B[0m 2ms/step - accuracy: 0.6834 - loss: 0.6281 - val_accuracy: 0.6000 - val_loss: 0.6176\n",
      "Epoch 28/100\n",
      "\u001B[1m120/120\u001B[0m \u001B[32m━━━━━━━━━━━━━━━━━━━━\u001B[0m\u001B[37m\u001B[0m \u001B[1m0s\u001B[0m 2ms/step - accuracy: 0.7705 - loss: 0.5332 - val_accuracy: 0.6000 - val_loss: 0.6027\n",
      "Epoch 29/100\n",
      "\u001B[1m120/120\u001B[0m \u001B[32m━━━━━━━━━━━━━━━━━━━━\u001B[0m\u001B[37m\u001B[0m \u001B[1m0s\u001B[0m 2ms/step - accuracy: 0.7563 - loss: 0.5336 - val_accuracy: 0.6000 - val_loss: 0.5816\n",
      "Epoch 30/100\n",
      "\u001B[1m120/120\u001B[0m \u001B[32m━━━━━━━━━━━━━━━━━━━━\u001B[0m\u001B[37m\u001B[0m \u001B[1m0s\u001B[0m 2ms/step - accuracy: 0.7636 - loss: 0.4913 - val_accuracy: 0.6000 - val_loss: 0.5667\n",
      "Epoch 31/100\n",
      "\u001B[1m120/120\u001B[0m \u001B[32m━━━━━━━━━━━━━━━━━━━━\u001B[0m\u001B[37m\u001B[0m \u001B[1m0s\u001B[0m 2ms/step - accuracy: 0.7647 - loss: 0.5237 - val_accuracy: 0.6000 - val_loss: 0.5531\n",
      "Epoch 32/100\n",
      "\u001B[1m120/120\u001B[0m \u001B[32m━━━━━━━━━━━━━━━━━━━━\u001B[0m\u001B[37m\u001B[0m \u001B[1m0s\u001B[0m 2ms/step - accuracy: 0.8409 - loss: 0.4780 - val_accuracy: 0.6000 - val_loss: 0.5323\n",
      "Epoch 33/100\n",
      "\u001B[1m120/120\u001B[0m \u001B[32m━━━━━━━━━━━━━━━━━━━━\u001B[0m\u001B[37m\u001B[0m \u001B[1m0s\u001B[0m 2ms/step - accuracy: 0.8268 - loss: 0.4922 - val_accuracy: 0.7333 - val_loss: 0.5104\n",
      "Epoch 34/100\n",
      "\u001B[1m120/120\u001B[0m \u001B[32m━━━━━━━━━━━━━━━━━━━━\u001B[0m\u001B[37m\u001B[0m \u001B[1m0s\u001B[0m 2ms/step - accuracy: 0.8444 - loss: 0.4914 - val_accuracy: 0.7000 - val_loss: 0.5068\n",
      "Epoch 35/100\n",
      "\u001B[1m120/120\u001B[0m \u001B[32m━━━━━━━━━━━━━━━━━━━━\u001B[0m\u001B[37m\u001B[0m \u001B[1m0s\u001B[0m 2ms/step - accuracy: 0.8543 - loss: 0.4512 - val_accuracy: 0.7000 - val_loss: 0.5011\n",
      "Epoch 36/100\n",
      "\u001B[1m120/120\u001B[0m \u001B[32m━━━━━━━━━━━━━━━━━━━━\u001B[0m\u001B[37m\u001B[0m \u001B[1m0s\u001B[0m 2ms/step - accuracy: 0.8270 - loss: 0.4411 - val_accuracy: 0.7000 - val_loss: 0.4866\n",
      "Epoch 37/100\n",
      "\u001B[1m120/120\u001B[0m \u001B[32m━━━━━━━━━━━━━━━━━━━━\u001B[0m\u001B[37m\u001B[0m \u001B[1m0s\u001B[0m 2ms/step - accuracy: 0.8482 - loss: 0.4174 - val_accuracy: 0.7000 - val_loss: 0.4805\n",
      "Epoch 38/100\n",
      "\u001B[1m120/120\u001B[0m \u001B[32m━━━━━━━━━━━━━━━━━━━━\u001B[0m\u001B[37m\u001B[0m \u001B[1m0s\u001B[0m 2ms/step - accuracy: 0.9222 - loss: 0.4464 - val_accuracy: 0.8000 - val_loss: 0.4621\n",
      "Epoch 39/100\n",
      "\u001B[1m120/120\u001B[0m \u001B[32m━━━━━━━━━━━━━━━━━━━━\u001B[0m\u001B[37m\u001B[0m \u001B[1m0s\u001B[0m 2ms/step - accuracy: 0.8772 - loss: 0.4128 - val_accuracy: 0.8000 - val_loss: 0.4527\n",
      "Epoch 40/100\n",
      "\u001B[1m120/120\u001B[0m \u001B[32m━━━━━━━━━━━━━━━━━━━━\u001B[0m\u001B[37m\u001B[0m \u001B[1m0s\u001B[0m 2ms/step - accuracy: 0.8970 - loss: 0.4393 - val_accuracy: 0.9000 - val_loss: 0.4373\n",
      "Epoch 41/100\n",
      "\u001B[1m120/120\u001B[0m \u001B[32m━━━━━━━━━━━━━━━━━━━━\u001B[0m\u001B[37m\u001B[0m \u001B[1m0s\u001B[0m 2ms/step - accuracy: 0.9159 - loss: 0.3958 - val_accuracy: 0.8667 - val_loss: 0.4303\n",
      "Epoch 42/100\n",
      "\u001B[1m120/120\u001B[0m \u001B[32m━━━━━━━━━━━━━━━━━━━━\u001B[0m\u001B[37m\u001B[0m \u001B[1m0s\u001B[0m 2ms/step - accuracy: 0.9439 - loss: 0.3781 - val_accuracy: 0.9000 - val_loss: 0.4183\n",
      "Epoch 43/100\n",
      "\u001B[1m120/120\u001B[0m \u001B[32m━━━━━━━━━━━━━━━━━━━━\u001B[0m\u001B[37m\u001B[0m \u001B[1m0s\u001B[0m 2ms/step - accuracy: 0.9118 - loss: 0.4022 - val_accuracy: 0.8333 - val_loss: 0.4189\n",
      "Epoch 44/100\n",
      "\u001B[1m120/120\u001B[0m \u001B[32m━━━━━━━━━━━━━━━━━━━━\u001B[0m\u001B[37m\u001B[0m \u001B[1m0s\u001B[0m 2ms/step - accuracy: 0.8831 - loss: 0.3831 - val_accuracy: 0.8333 - val_loss: 0.4103\n",
      "Epoch 45/100\n",
      "\u001B[1m120/120\u001B[0m \u001B[32m━━━━━━━━━━━━━━━━━━━━\u001B[0m\u001B[37m\u001B[0m \u001B[1m0s\u001B[0m 2ms/step - accuracy: 0.8745 - loss: 0.3889 - val_accuracy: 0.9000 - val_loss: 0.3896\n",
      "Epoch 46/100\n",
      "\u001B[1m120/120\u001B[0m \u001B[32m━━━━━━━━━━━━━━━━━━━━\u001B[0m\u001B[37m\u001B[0m \u001B[1m0s\u001B[0m 2ms/step - accuracy: 0.9198 - loss: 0.3595 - val_accuracy: 0.9000 - val_loss: 0.3798\n",
      "Epoch 47/100\n",
      "\u001B[1m120/120\u001B[0m \u001B[32m━━━━━━━━━━━━━━━━━━━━\u001B[0m\u001B[37m\u001B[0m \u001B[1m0s\u001B[0m 2ms/step - accuracy: 0.9471 - loss: 0.3685 - val_accuracy: 0.9000 - val_loss: 0.3779\n",
      "Epoch 48/100\n",
      "\u001B[1m120/120\u001B[0m \u001B[32m━━━━━━━━━━━━━━━━━━━━\u001B[0m\u001B[37m\u001B[0m \u001B[1m0s\u001B[0m 2ms/step - accuracy: 0.9833 - loss: 0.3218 - val_accuracy: 0.9000 - val_loss: 0.3661\n",
      "Epoch 49/100\n",
      "\u001B[1m120/120\u001B[0m \u001B[32m━━━━━━━━━━━━━━━━━━━━\u001B[0m\u001B[37m\u001B[0m \u001B[1m0s\u001B[0m 2ms/step - accuracy: 0.9723 - loss: 0.3210 - val_accuracy: 0.9333 - val_loss: 0.3471\n",
      "Epoch 50/100\n",
      "\u001B[1m120/120\u001B[0m \u001B[32m━━━━━━━━━━━━━━━━━━━━\u001B[0m\u001B[37m\u001B[0m \u001B[1m0s\u001B[0m 2ms/step - accuracy: 0.9075 - loss: 0.3445 - val_accuracy: 0.9667 - val_loss: 0.3343\n",
      "Epoch 51/100\n",
      "\u001B[1m120/120\u001B[0m \u001B[32m━━━━━━━━━━━━━━━━━━━━\u001B[0m\u001B[37m\u001B[0m \u001B[1m0s\u001B[0m 2ms/step - accuracy: 0.9505 - loss: 0.3276 - val_accuracy: 0.9333 - val_loss: 0.3344\n",
      "Epoch 52/100\n",
      "\u001B[1m120/120\u001B[0m \u001B[32m━━━━━━━━━━━━━━━━━━━━\u001B[0m\u001B[37m\u001B[0m \u001B[1m0s\u001B[0m 2ms/step - accuracy: 0.9482 - loss: 0.2898 - val_accuracy: 0.9333 - val_loss: 0.3291\n",
      "Epoch 53/100\n",
      "\u001B[1m120/120\u001B[0m \u001B[32m━━━━━━━━━━━━━━━━━━━━\u001B[0m\u001B[37m\u001B[0m \u001B[1m0s\u001B[0m 2ms/step - accuracy: 0.9621 - loss: 0.3157 - val_accuracy: 0.9333 - val_loss: 0.3189\n",
      "Epoch 54/100\n",
      "\u001B[1m120/120\u001B[0m \u001B[32m━━━━━━━━━━━━━━━━━━━━\u001B[0m\u001B[37m\u001B[0m \u001B[1m0s\u001B[0m 2ms/step - accuracy: 0.9172 - loss: 0.3188 - val_accuracy: 0.9333 - val_loss: 0.3206\n",
      "Epoch 55/100\n",
      "\u001B[1m120/120\u001B[0m \u001B[32m━━━━━━━━━━━━━━━━━━━━\u001B[0m\u001B[37m\u001B[0m \u001B[1m0s\u001B[0m 2ms/step - accuracy: 0.9495 - loss: 0.2919 - val_accuracy: 0.9333 - val_loss: 0.3060\n",
      "Epoch 56/100\n",
      "\u001B[1m120/120\u001B[0m \u001B[32m━━━━━━━━━━━━━━━━━━━━\u001B[0m\u001B[37m\u001B[0m \u001B[1m0s\u001B[0m 2ms/step - accuracy: 0.9462 - loss: 0.2873 - val_accuracy: 0.9333 - val_loss: 0.2927\n",
      "Epoch 57/100\n",
      "\u001B[1m120/120\u001B[0m \u001B[32m━━━━━━━━━━━━━━━━━━━━\u001B[0m\u001B[37m\u001B[0m \u001B[1m0s\u001B[0m 2ms/step - accuracy: 0.9753 - loss: 0.2431 - val_accuracy: 1.0000 - val_loss: 0.2744\n",
      "Epoch 58/100\n",
      "\u001B[1m120/120\u001B[0m \u001B[32m━━━━━━━━━━━━━━━━━━━━\u001B[0m\u001B[37m\u001B[0m \u001B[1m0s\u001B[0m 2ms/step - accuracy: 0.9608 - loss: 0.2532 - val_accuracy: 0.9667 - val_loss: 0.2766\n",
      "Epoch 59/100\n",
      "\u001B[1m120/120\u001B[0m \u001B[32m━━━━━━━━━━━━━━━━━━━━\u001B[0m\u001B[37m\u001B[0m \u001B[1m0s\u001B[0m 2ms/step - accuracy: 0.9493 - loss: 0.2601 - val_accuracy: 0.9667 - val_loss: 0.2671\n",
      "Epoch 60/100\n",
      "\u001B[1m120/120\u001B[0m \u001B[32m━━━━━━━━━━━━━━━━━━━━\u001B[0m\u001B[37m\u001B[0m \u001B[1m0s\u001B[0m 2ms/step - accuracy: 0.9437 - loss: 0.2887 - val_accuracy: 0.9333 - val_loss: 0.2670\n",
      "Epoch 61/100\n",
      "\u001B[1m120/120\u001B[0m \u001B[32m━━━━━━━━━━━━━━━━━━━━\u001B[0m\u001B[37m\u001B[0m \u001B[1m0s\u001B[0m 2ms/step - accuracy: 0.9400 - loss: 0.2323 - val_accuracy: 1.0000 - val_loss: 0.2436\n",
      "Epoch 62/100\n",
      "\u001B[1m120/120\u001B[0m \u001B[32m━━━━━━━━━━━━━━━━━━━━\u001B[0m\u001B[37m\u001B[0m \u001B[1m0s\u001B[0m 2ms/step - accuracy: 0.9666 - loss: 0.2542 - val_accuracy: 1.0000 - val_loss: 0.2369\n",
      "Epoch 63/100\n",
      "\u001B[1m120/120\u001B[0m \u001B[32m━━━━━━━━━━━━━━━━━━━━\u001B[0m\u001B[37m\u001B[0m \u001B[1m0s\u001B[0m 2ms/step - accuracy: 0.9547 - loss: 0.2302 - val_accuracy: 1.0000 - val_loss: 0.2401\n",
      "Epoch 64/100\n",
      "\u001B[1m120/120\u001B[0m \u001B[32m━━━━━━━━━━━━━━━━━━━━\u001B[0m\u001B[37m\u001B[0m \u001B[1m0s\u001B[0m 2ms/step - accuracy: 0.9672 - loss: 0.2050 - val_accuracy: 1.0000 - val_loss: 0.2298\n",
      "Epoch 65/100\n",
      "\u001B[1m120/120\u001B[0m \u001B[32m━━━━━━━━━━━━━━━━━━━━\u001B[0m\u001B[37m\u001B[0m \u001B[1m0s\u001B[0m 2ms/step - accuracy: 0.9590 - loss: 0.2162 - val_accuracy: 1.0000 - val_loss: 0.2289\n",
      "Epoch 66/100\n",
      "\u001B[1m120/120\u001B[0m \u001B[32m━━━━━━━━━━━━━━━━━━━━\u001B[0m\u001B[37m\u001B[0m \u001B[1m0s\u001B[0m 2ms/step - accuracy: 0.9713 - loss: 0.1942 - val_accuracy: 1.0000 - val_loss: 0.2239\n",
      "Epoch 67/100\n",
      "\u001B[1m120/120\u001B[0m \u001B[32m━━━━━━━━━━━━━━━━━━━━\u001B[0m\u001B[37m\u001B[0m \u001B[1m0s\u001B[0m 2ms/step - accuracy: 0.9843 - loss: 0.1865 - val_accuracy: 1.0000 - val_loss: 0.2163\n",
      "Epoch 68/100\n",
      "\u001B[1m120/120\u001B[0m \u001B[32m━━━━━━━━━━━━━━━━━━━━\u001B[0m\u001B[37m\u001B[0m \u001B[1m0s\u001B[0m 2ms/step - accuracy: 0.9304 - loss: 0.2438 - val_accuracy: 1.0000 - val_loss: 0.2067\n",
      "Epoch 69/100\n",
      "\u001B[1m120/120\u001B[0m \u001B[32m━━━━━━━━━━━━━━━━━━━━\u001B[0m\u001B[37m\u001B[0m \u001B[1m0s\u001B[0m 2ms/step - accuracy: 0.9752 - loss: 0.1682 - val_accuracy: 1.0000 - val_loss: 0.1990\n",
      "Epoch 70/100\n",
      "\u001B[1m120/120\u001B[0m \u001B[32m━━━━━━━━━━━━━━━━━━━━\u001B[0m\u001B[37m\u001B[0m \u001B[1m0s\u001B[0m 2ms/step - accuracy: 0.9910 - loss: 0.1785 - val_accuracy: 1.0000 - val_loss: 0.1988\n",
      "Epoch 71/100\n",
      "\u001B[1m120/120\u001B[0m \u001B[32m━━━━━━━━━━━━━━━━━━━━\u001B[0m\u001B[37m\u001B[0m \u001B[1m0s\u001B[0m 2ms/step - accuracy: 0.9613 - loss: 0.1960 - val_accuracy: 1.0000 - val_loss: 0.1918\n",
      "Epoch 72/100\n",
      "\u001B[1m120/120\u001B[0m \u001B[32m━━━━━━━━━━━━━━━━━━━━\u001B[0m\u001B[37m\u001B[0m \u001B[1m0s\u001B[0m 2ms/step - accuracy: 0.9599 - loss: 0.1892 - val_accuracy: 1.0000 - val_loss: 0.1957\n",
      "Epoch 73/100\n",
      "\u001B[1m120/120\u001B[0m \u001B[32m━━━━━━━━━━━━━━━━━━━━\u001B[0m\u001B[37m\u001B[0m \u001B[1m0s\u001B[0m 2ms/step - accuracy: 0.9707 - loss: 0.1777 - val_accuracy: 1.0000 - val_loss: 0.1857\n",
      "Epoch 74/100\n",
      "\u001B[1m120/120\u001B[0m \u001B[32m━━━━━━━━━━━━━━━━━━━━\u001B[0m\u001B[37m\u001B[0m \u001B[1m0s\u001B[0m 2ms/step - accuracy: 0.9747 - loss: 0.1679 - val_accuracy: 1.0000 - val_loss: 0.1819\n",
      "Epoch 75/100\n",
      "\u001B[1m120/120\u001B[0m \u001B[32m━━━━━━━━━━━━━━━━━━━━\u001B[0m\u001B[37m\u001B[0m \u001B[1m0s\u001B[0m 2ms/step - accuracy: 0.9799 - loss: 0.1722 - val_accuracy: 1.0000 - val_loss: 0.1718\n",
      "Epoch 76/100\n",
      "\u001B[1m120/120\u001B[0m \u001B[32m━━━━━━━━━━━━━━━━━━━━\u001B[0m\u001B[37m\u001B[0m \u001B[1m0s\u001B[0m 2ms/step - accuracy: 0.9704 - loss: 0.1721 - val_accuracy: 1.0000 - val_loss: 0.1660\n",
      "Epoch 77/100\n",
      "\u001B[1m120/120\u001B[0m \u001B[32m━━━━━━━━━━━━━━━━━━━━\u001B[0m\u001B[37m\u001B[0m \u001B[1m0s\u001B[0m 2ms/step - accuracy: 0.9672 - loss: 0.1423 - val_accuracy: 1.0000 - val_loss: 0.1631\n",
      "Epoch 78/100\n",
      "\u001B[1m120/120\u001B[0m \u001B[32m━━━━━━━━━━━━━━━━━━━━\u001B[0m\u001B[37m\u001B[0m \u001B[1m0s\u001B[0m 2ms/step - accuracy: 0.9598 - loss: 0.1585 - val_accuracy: 1.0000 - val_loss: 0.1638\n",
      "Epoch 79/100\n",
      "\u001B[1m120/120\u001B[0m \u001B[32m━━━━━━━━━━━━━━━━━━━━\u001B[0m\u001B[37m\u001B[0m \u001B[1m0s\u001B[0m 2ms/step - accuracy: 0.9846 - loss: 0.1624 - val_accuracy: 1.0000 - val_loss: 0.1547\n",
      "Epoch 80/100\n",
      "\u001B[1m120/120\u001B[0m \u001B[32m━━━━━━━━━━━━━━━━━━━━\u001B[0m\u001B[37m\u001B[0m \u001B[1m0s\u001B[0m 2ms/step - accuracy: 0.9316 - loss: 0.1733 - val_accuracy: 1.0000 - val_loss: 0.1500\n",
      "Epoch 81/100\n",
      "\u001B[1m120/120\u001B[0m \u001B[32m━━━━━━━━━━━━━━━━━━━━\u001B[0m\u001B[37m\u001B[0m \u001B[1m0s\u001B[0m 2ms/step - accuracy: 0.9546 - loss: 0.1538 - val_accuracy: 1.0000 - val_loss: 0.1521\n",
      "Epoch 82/100\n",
      "\u001B[1m120/120\u001B[0m \u001B[32m━━━━━━━━━━━━━━━━━━━━\u001B[0m\u001B[37m\u001B[0m \u001B[1m0s\u001B[0m 2ms/step - accuracy: 0.9501 - loss: 0.1520 - val_accuracy: 1.0000 - val_loss: 0.1442\n",
      "Epoch 83/100\n",
      "\u001B[1m120/120\u001B[0m \u001B[32m━━━━━━━━━━━━━━━━━━━━\u001B[0m\u001B[37m\u001B[0m \u001B[1m0s\u001B[0m 2ms/step - accuracy: 0.9399 - loss: 0.1823 - val_accuracy: 1.0000 - val_loss: 0.1442\n",
      "Epoch 84/100\n",
      "\u001B[1m120/120\u001B[0m \u001B[32m━━━━━━━━━━━━━━━━━━━━\u001B[0m\u001B[37m\u001B[0m \u001B[1m0s\u001B[0m 2ms/step - accuracy: 0.9724 - loss: 0.1329 - val_accuracy: 1.0000 - val_loss: 0.1410\n",
      "Epoch 85/100\n",
      "\u001B[1m120/120\u001B[0m \u001B[32m━━━━━━━━━━━━━━━━━━━━\u001B[0m\u001B[37m\u001B[0m \u001B[1m0s\u001B[0m 2ms/step - accuracy: 0.9724 - loss: 0.1566 - val_accuracy: 1.0000 - val_loss: 0.1333\n",
      "Epoch 86/100\n",
      "\u001B[1m120/120\u001B[0m \u001B[32m━━━━━━━━━━━━━━━━━━━━\u001B[0m\u001B[37m\u001B[0m \u001B[1m0s\u001B[0m 2ms/step - accuracy: 0.9875 - loss: 0.1303 - val_accuracy: 1.0000 - val_loss: 0.1278\n",
      "Epoch 87/100\n",
      "\u001B[1m120/120\u001B[0m \u001B[32m━━━━━━━━━━━━━━━━━━━━\u001B[0m\u001B[37m\u001B[0m \u001B[1m0s\u001B[0m 2ms/step - accuracy: 0.9691 - loss: 0.1556 - val_accuracy: 1.0000 - val_loss: 0.1282\n",
      "Epoch 88/100\n",
      "\u001B[1m120/120\u001B[0m \u001B[32m━━━━━━━━━━━━━━━━━━━━\u001B[0m\u001B[37m\u001B[0m \u001B[1m0s\u001B[0m 2ms/step - accuracy: 0.9575 - loss: 0.1329 - val_accuracy: 1.0000 - val_loss: 0.1276\n",
      "Epoch 89/100\n",
      "\u001B[1m120/120\u001B[0m \u001B[32m━━━━━━━━━━━━━━━━━━━━\u001B[0m\u001B[37m\u001B[0m \u001B[1m0s\u001B[0m 2ms/step - accuracy: 0.9793 - loss: 0.1240 - val_accuracy: 1.0000 - val_loss: 0.1175\n",
      "Epoch 90/100\n",
      "\u001B[1m120/120\u001B[0m \u001B[32m━━━━━━━━━━━━━━━━━━━━\u001B[0m\u001B[37m\u001B[0m \u001B[1m0s\u001B[0m 2ms/step - accuracy: 0.9289 - loss: 0.1568 - val_accuracy: 1.0000 - val_loss: 0.1191\n",
      "Epoch 91/100\n",
      "\u001B[1m120/120\u001B[0m \u001B[32m━━━━━━━━━━━━━━━━━━━━\u001B[0m\u001B[37m\u001B[0m \u001B[1m0s\u001B[0m 2ms/step - accuracy: 0.9818 - loss: 0.1169 - val_accuracy: 1.0000 - val_loss: 0.1166\n",
      "Epoch 92/100\n",
      "\u001B[1m120/120\u001B[0m \u001B[32m━━━━━━━━━━━━━━━━━━━━\u001B[0m\u001B[37m\u001B[0m \u001B[1m0s\u001B[0m 2ms/step - accuracy: 0.8557 - loss: 0.2040 - val_accuracy: 1.0000 - val_loss: 0.1140\n",
      "Epoch 93/100\n",
      "\u001B[1m120/120\u001B[0m \u001B[32m━━━━━━━━━━━━━━━━━━━━\u001B[0m\u001B[37m\u001B[0m \u001B[1m0s\u001B[0m 2ms/step - accuracy: 0.9695 - loss: 0.1342 - val_accuracy: 1.0000 - val_loss: 0.1171\n",
      "Epoch 94/100\n",
      "\u001B[1m120/120\u001B[0m \u001B[32m━━━━━━━━━━━━━━━━━━━━\u001B[0m\u001B[37m\u001B[0m \u001B[1m0s\u001B[0m 2ms/step - accuracy: 0.9839 - loss: 0.1084 - val_accuracy: 1.0000 - val_loss: 0.1075\n",
      "Epoch 95/100\n",
      "\u001B[1m120/120\u001B[0m \u001B[32m━━━━━━━━━━━━━━━━━━━━\u001B[0m\u001B[37m\u001B[0m \u001B[1m0s\u001B[0m 2ms/step - accuracy: 0.9602 - loss: 0.1234 - val_accuracy: 1.0000 - val_loss: 0.1071\n",
      "Epoch 96/100\n",
      "\u001B[1m120/120\u001B[0m \u001B[32m━━━━━━━━━━━━━━━━━━━━\u001B[0m\u001B[37m\u001B[0m \u001B[1m0s\u001B[0m 2ms/step - accuracy: 0.9555 - loss: 0.1230 - val_accuracy: 1.0000 - val_loss: 0.1064\n",
      "Epoch 97/100\n",
      "\u001B[1m120/120\u001B[0m \u001B[32m━━━━━━━━━━━━━━━━━━━━\u001B[0m\u001B[37m\u001B[0m \u001B[1m0s\u001B[0m 2ms/step - accuracy: 0.9413 - loss: 0.1121 - val_accuracy: 1.0000 - val_loss: 0.1131\n",
      "Epoch 98/100\n",
      "\u001B[1m120/120\u001B[0m \u001B[32m━━━━━━━━━━━━━━━━━━━━\u001B[0m\u001B[37m\u001B[0m \u001B[1m0s\u001B[0m 2ms/step - accuracy: 0.9902 - loss: 0.1153 - val_accuracy: 1.0000 - val_loss: 0.1003\n",
      "Epoch 99/100\n",
      "\u001B[1m120/120\u001B[0m \u001B[32m━━━━━━━━━━━━━━━━━━━━\u001B[0m\u001B[37m\u001B[0m \u001B[1m0s\u001B[0m 2ms/step - accuracy: 0.9593 - loss: 0.1082 - val_accuracy: 1.0000 - val_loss: 0.0979\n",
      "Epoch 100/100\n",
      "\u001B[1m120/120\u001B[0m \u001B[32m━━━━━━━━━━━━━━━━━━━━\u001B[0m\u001B[37m\u001B[0m \u001B[1m0s\u001B[0m 2ms/step - accuracy: 0.9551 - loss: 0.1292 - val_accuracy: 1.0000 - val_loss: 0.0954\n"
     ]
    }
   ],
   "source": [
    "# Training the Neural Network\n",
    "history = model.fit(X_train, y_train, epochs=100, batch_size=1, validation_data=(X_test, y_test))"
   ],
   "metadata": {
    "collapsed": false,
    "ExecuteTime": {
     "end_time": "2024-06-19T04:20:32.884710Z",
     "start_time": "2024-06-19T04:20:03.153167Z"
    }
   },
   "id": "ba9cf5261db82361",
   "execution_count": 10
  },
  {
   "cell_type": "code",
   "outputs": [
    {
     "data": {
      "text/plain": "<Figure size 640x480 with 1 Axes>",
      "image/png": "[encoded data removed]"
     },
     "metadata": {},
     "output_type": "display_data"
    }
   ],
   "source": [
    "# Plotting the loss and accuracy\n",
    "plt.plot(history.history['loss'])\n",
    "plt.plot(history.history['val_loss'])\n",
    "plt.title('Model Loss')\n",
    "plt.ylabel('Loss')\n",
    "plt.xlabel('Epoch')\n",
    "plt.legend(['Train', 'Test'], loc='upper right')\n",
    "plt.show()"
   ],
   "metadata": {
    "collapsed": false,
    "ExecuteTime": {
     "end_time": "2024-06-19T04:20:33.145050Z",
     "start_time": "2024-06-19T04:20:32.885794Z"
    }
   },
   "id": "a9ba731b5a0f0b0e",
   "execution_count": 11
  },
  {
   "cell_type": "markdown",
   "source": [
    "# 4. Evaluating the Neural Network"
   ],
   "metadata": {
    "collapsed": false
   },
   "id": "97c971884d0486b1"
  },
  {
   "cell_type": "code",
   "outputs": [
    {
     "data": {
      "text/plain": "array([[0., 0., 1.],\n       [0., 1., 0.],\n       [1., 0., 0.],\n       [0., 0., 1.],\n       [1., 0., 0.],\n       [0., 0., 1.],\n       [1., 0., 0.],\n       [0., 1., 0.],\n       [0., 1., 0.],\n       [0., 1., 0.],\n       [0., 0., 1.],\n       [0., 1., 0.],\n       [0., 1., 0.],\n       [0., 1., 0.],\n       [0., 1., 0.],\n       [1., 0., 0.],\n       [0., 1., 0.],\n       [0., 1., 0.],\n       [1., 0., 0.],\n       [1., 0., 0.],\n       [0., 0., 1.],\n       [0., 1., 0.],\n       [1., 0., 0.],\n       [1., 0., 0.],\n       [0., 0., 1.],\n       [1., 0., 0.],\n       [1., 0., 0.],\n       [0., 1., 0.],\n       [0., 1., 0.],\n       [1., 0., 0.]])"
     },
     "execution_count": 12,
     "metadata": {},
     "output_type": "execute_result"
    }
   ],
   "source": [
    "y_test"
   ],
   "metadata": {
    "collapsed": false,
    "ExecuteTime": {
     "end_time": "2024-06-19T04:20:33.153081Z",
     "start_time": "2024-06-19T04:20:33.146270Z"
    }
   },
   "id": "c1e0c6efc13abab9",
   "execution_count": 12
  },
  {
   "cell_type": "code",
   "outputs": [
    {
     "name": "stdout",
     "output_type": "stream",
     "text": [
      "\u001B[1m1/1\u001B[0m \u001B[32m━━━━━━━━━━━━━━━━━━━━\u001B[0m\u001B[37m\u001B[0m \u001B[1m0s\u001B[0m 72ms/step\n",
      "Accuracy:  1.0\n",
      "              precision    recall  f1-score   support\n",
      "\n",
      "           0       1.00      1.00      1.00        11\n",
      "           1       1.00      1.00      1.00        13\n",
      "           2       1.00      1.00      1.00         6\n",
      "\n",
      "    accuracy                           1.00        30\n",
      "   macro avg       1.00      1.00      1.00        30\n",
      "weighted avg       1.00      1.00      1.00        30\n"
     ]
    }
   ],
   "source": [
    "# Evaluating the Neural Network accuracy, precision, recall, f1-score, classification report\n",
    "from sklearn.metrics import classification_report\n",
    "from sklearn.metrics import accuracy_score\n",
    "\n",
    "y_pred = model.predict(X_test)\n",
    "y_pred_result = np.argmax(y_pred, axis=1)\n",
    "y_test_result = np.argmax(y_test, axis=1)\n",
    "accuracy = accuracy_score(y_test_result, y_pred_result)\n",
    "print('Accuracy: ', accuracy)\n",
    "print(classification_report(y_test_result, y_pred_result))"
   ],
   "metadata": {
    "collapsed": false,
    "ExecuteTime": {
     "end_time": "2024-06-19T04:20:33.303622Z",
     "start_time": "2024-06-19T04:20:33.154263Z"
    }
   },
   "id": "7fafac0baace7b0",
   "execution_count": 13
  },
  {
   "cell_type": "code",
   "outputs": [
    {
     "name": "stdout",
     "output_type": "stream",
     "text": [
      "\u001B[1m1/1\u001B[0m \u001B[32m━━━━━━━━━━━━━━━━━━━━\u001B[0m\u001B[37m\u001B[0m \u001B[1m0s\u001B[0m 33ms/step\n"
     ]
    },
    {
     "data": {
      "text/plain": "   Sepal Length Sepal Width Petal Length Petal Width        Predicted  \\\n0           5.8         2.8          5.1         2.4   Iris-virginica   \n1           6.0         2.2          4.0         1.0  Iris-versicolor   \n2           5.5         4.2          1.4         0.2      Iris-setosa   \n3           7.3         2.9          6.3         1.8   Iris-virginica   \n4           5.0         3.4          1.5         0.2      Iris-setosa   \n5           6.3         3.3          6.0         2.5   Iris-virginica   \n6           5.0         3.5          1.3         0.3      Iris-setosa   \n7           6.7         3.1          4.7         1.5  Iris-versicolor   \n8           6.8         2.8          4.8         1.4  Iris-versicolor   \n9           6.1         2.8          4.0         1.3  Iris-versicolor   \n10          6.1         2.6          5.6         1.4   Iris-virginica   \n11          6.4         3.2          4.5         1.5  Iris-versicolor   \n12          6.1         2.8          4.7         1.2  Iris-versicolor   \n13          6.5         2.8          4.6         1.5  Iris-versicolor   \n14          6.1         2.9          4.7         1.4  Iris-versicolor   \n15          4.9         3.1          1.5         0.1      Iris-setosa   \n16          6.0         2.9          4.5         1.5  Iris-versicolor   \n17          5.5         2.6          4.4         1.2  Iris-versicolor   \n18          4.8         3.0          1.4         0.3      Iris-setosa   \n19          5.4         3.9          1.3         0.4      Iris-setosa   \n20          5.6         2.8          4.9         2.0   Iris-virginica   \n21          5.6         3.0          4.5         1.5  Iris-versicolor   \n22          4.8         3.4          1.9         0.2      Iris-setosa   \n23          4.4         2.9          1.4         0.2      Iris-setosa   \n24          6.2         2.8          4.8         1.8   Iris-virginica   \n25          4.6         3.6          1.0         0.2      Iris-setosa   \n26          5.1         3.8          1.9         0.4      Iris-setosa   \n27          6.2         2.9          4.3         1.3  Iris-versicolor   \n28          5.0         2.3          3.3         1.0  Iris-versicolor   \n29          5.0         3.4          1.6         0.4      Iris-setosa   \n\n             Actual  \n0    Iris-virginica  \n1   Iris-versicolor  \n2       Iris-setosa  \n3    Iris-virginica  \n4       Iris-setosa  \n5    Iris-virginica  \n6       Iris-setosa  \n7   Iris-versicolor  \n8   Iris-versicolor  \n9   Iris-versicolor  \n10   Iris-virginica  \n11  Iris-versicolor  \n12  Iris-versicolor  \n13  Iris-versicolor  \n14  Iris-versicolor  \n15      Iris-setosa  \n16  Iris-versicolor  \n17  Iris-versicolor  \n18      Iris-setosa  \n19      Iris-setosa  \n20   Iris-virginica  \n21  Iris-versicolor  \n22      Iris-setosa  \n23      Iris-setosa  \n24   Iris-virginica  \n25      Iris-setosa  \n26      Iris-setosa  \n27  Iris-versicolor  \n28  Iris-versicolor  \n29      Iris-setosa  ",
      "text/html": "<div>\n<style scoped>\n    .dataframe tbody tr th:only-of-type {\n        vertical-align: middle;\n    }\n\n    .dataframe tbody tr th {\n        vertical-align: top;\n    }\n\n    .dataframe thead th {\n        text-align: right;\n    }\n</style>\n<table border=\"1\" class=\"dataframe\">\n  <thead>\n    <tr style=\"text-align: right;\">\n      <th></th>\n      <th>Sepal Length</th>\n      <th>Sepal Width</th>\n      <th>Petal Length</th>\n      <th>Petal Width</th>\n      <th>Predicted</th>\n      <th>Actual</th>\n    </tr>\n  </thead>\n  <tbody>\n    <tr>\n      <th>0</th>\n      <td>5.8</td>\n      <td>2.8</td>\n      <td>5.1</td>\n      <td>2.4</td>\n      <td>Iris-virginica</td>\n      <td>Iris-virginica</td>\n    </tr>\n    <tr>\n      <th>1</th>\n      <td>6.0</td>\n      <td>2.2</td>\n      <td>4.0</td>\n      <td>1.0</td>\n      <td>Iris-versicolor</td>\n      <td>Iris-versicolor</td>\n    </tr>\n    <tr>\n      <th>2</th>\n      <td>5.5</td>\n      <td>4.2</td>\n      <td>1.4</td>\n      <td>0.2</td>\n      <td>Iris-setosa</td>\n      <td>Iris-setosa</td>\n    </tr>\n    <tr>\n      <th>3</th>\n      <td>7.3</td>\n      <td>2.9</td>\n      <td>6.3</td>\n      <td>1.8</td>\n      <td>Iris-virginica</td>\n      <td>Iris-virginica</td>\n    </tr>\n    <tr>\n      <th>4</th>\n      <td>5.0</td>\n      <td>3.4</td>\n      <td>1.5</td>\n      <td>0.2</td>\n      <td>Iris-setosa</td>\n      <td>Iris-setosa</td>\n    </tr>\n    <tr>\n      <th>5</th>\n      <td>6.3</td>\n      <td>3.3</td>\n      <td>6.0</td>\n      <td>2.5</td>\n      <td>Iris-virginica</td>\n      <td>Iris-virginica</td>\n    </tr>\n    <tr>\n      <th>6</th>\n      <td>5.0</td>\n      <td>3.5</td>\n      <td>1.3</td>\n      <td>0.3</td>\n      <td>Iris-setosa</td>\n      <td>Iris-setosa</td>\n    </tr>\n    <tr>\n      <th>7</th>\n      <td>6.7</td>\n      <td>3.1</td>\n      <td>4.7</td>\n      <td>1.5</td>\n      <td>Iris-versicolor</td>\n      <td>Iris-versicolor</td>\n    </tr>\n    <tr>\n      <th>8</th>\n      <td>6.8</td>\n      <td>2.8</td>\n      <td>4.8</td>\n      <td>1.4</td>\n      <td>Iris-versicolor</td>\n      <td>Iris-versicolor</td>\n    </tr>\n    <tr>\n      <th>9</th>\n      <td>6.1</td>\n      <td>2.8</td>\n      <td>4.0</td>\n      <td>1.3</td>\n      <td>Iris-versicolor</td>\n      <td>Iris-versicolor</td>\n    </tr>\n    <tr>\n      <th>10</th>\n      <td>6.1</td>\n      <td>2.6</td>\n      <td>5.6</td>\n      <td>1.4</td>\n      <td>Iris-virginica</td>\n      <td>Iris-virginica</td>\n    </tr>\n    <tr>\n      <th>11</th>\n      <td>6.4</td>\n      <td>3.2</td>\n      <td>4.5</td>\n      <td>1.5</td>\n      <td>Iris-versicolor</td>\n      <td>Iris-versicolor</td>\n    </tr>\n    <tr>\n      <th>12</th>\n      <td>6.1</td>\n      <td>2.8</td>\n      <td>4.7</td>\n      <td>1.2</td>\n      <td>Iris-versicolor</td>\n      <td>Iris-versicolor</td>\n    </tr>\n    <tr>\n      <th>13</th>\n      <td>6.5</td>\n      <td>2.8</td>\n      <td>4.6</td>\n      <td>1.5</td>\n      <td>Iris-versicolor</td>\n      <td>Iris-versicolor</td>\n    </tr>\n    <tr>\n      <th>14</th>\n      <td>6.1</td>\n      <td>2.9</td>\n      <td>4.7</td>\n      <td>1.4</td>\n      <td>Iris-versicolor</td>\n      <td>Iris-versicolor</td>\n    </tr>\n    <tr>\n      <th>15</th>\n      <td>4.9</td>\n      <td>3.1</td>\n      <td>1.5</td>\n      <td>0.1</td>\n      <td>Iris-setosa</td>\n      <td>Iris-setosa</td>\n    </tr>\n    <tr>\n      <th>16</th>\n      <td>6.0</td>\n      <td>2.9</td>\n      <td>4.5</td>\n      <td>1.5</td>\n      <td>Iris-versicolor</td>\n      <td>Iris-versicolor</td>\n    </tr>\n    <tr>\n      <th>17</th>\n      <td>5.5</td>\n      <td>2.6</td>\n      <td>4.4</td>\n      <td>1.2</td>\n      <td>Iris-versicolor</td>\n      <td>Iris-versicolor</td>\n    </tr>\n    <tr>\n      <th>18</th>\n      <td>4.8</td>\n      <td>3.0</td>\n      <td>1.4</td>\n      <td>0.3</td>\n      <td>Iris-setosa</td>\n      <td>Iris-setosa</td>\n    </tr>\n    <tr>\n      <th>19</th>\n      <td>5.4</td>\n      <td>3.9</td>\n      <td>1.3</td>\n      <td>0.4</td>\n      <td>Iris-setosa</td>\n      <td>Iris-setosa</td>\n    </tr>\n    <tr>\n      <th>20</th>\n      <td>5.6</td>\n      <td>2.8</td>\n      <td>4.9</td>\n      <td>2.0</td>\n      <td>Iris-virginica</td>\n      <td>Iris-virginica</td>\n    </tr>\n    <tr>\n      <th>21</th>\n      <td>5.6</td>\n      <td>3.0</td>\n      <td>4.5</td>\n      <td>1.5</td>\n      <td>Iris-versicolor</td>\n      <td>Iris-versicolor</td>\n    </tr>\n    <tr>\n      <th>22</th>\n      <td>4.8</td>\n      <td>3.4</td>\n      <td>1.9</td>\n      <td>0.2</td>\n      <td>Iris-setosa</td>\n      <td>Iris-setosa</td>\n    </tr>\n    <tr>\n      <th>23</th>\n      <td>4.4</td>\n      <td>2.9</td>\n      <td>1.4</td>\n      <td>0.2</td>\n      <td>Iris-setosa</td>\n      <td>Iris-setosa</td>\n    </tr>\n    <tr>\n      <th>24</th>\n      <td>6.2</td>\n      <td>2.8</td>\n      <td>4.8</td>\n      <td>1.8</td>\n      <td>Iris-virginica</td>\n      <td>Iris-virginica</td>\n    </tr>\n    <tr>\n      <th>25</th>\n      <td>4.6</td>\n      <td>3.6</td>\n      <td>1.0</td>\n      <td>0.2</td>\n      <td>Iris-setosa</td>\n      <td>Iris-setosa</td>\n    </tr>\n    <tr>\n      <th>26</th>\n      <td>5.1</td>\n      <td>3.8</td>\n      <td>1.9</td>\n      <td>0.4</td>\n      <td>Iris-setosa</td>\n      <td>Iris-setosa</td>\n    </tr>\n    <tr>\n      <th>27</th>\n      <td>6.2</td>\n      <td>2.9</td>\n      <td>4.3</td>\n      <td>1.3</td>\n      <td>Iris-versicolor</td>\n      <td>Iris-versicolor</td>\n    </tr>\n    <tr>\n      <th>28</th>\n      <td>5.0</td>\n      <td>2.3</td>\n      <td>3.3</td>\n      <td>1.0</td>\n      <td>Iris-versicolor</td>\n      <td>Iris-versicolor</td>\n    </tr>\n    <tr>\n      <th>29</th>\n      <td>5.0</td>\n      <td>3.4</td>\n      <td>1.6</td>\n      <td>0.4</td>\n      <td>Iris-setosa</td>\n      <td>Iris-setosa</td>\n    </tr>\n  </tbody>\n</table>\n</div>"
     },
     "execution_count": 14,
     "metadata": {},
     "output_type": "execute_result"
    }
   ],
   "source": [
    "# List out the test data X, predicted y and actual y as one whole table\n",
    "\n",
    "\n",
    "y_pred = model.predict(X_test)\n",
    "y_pred_result = np.argmax(y_pred, axis=1)\n",
    "y_test_result = np.argmax(y_test, axis=1)\n",
    "\n",
    "# Transform X back to the original scale\n",
    "X_test_transform = scaler.inverse_transform(X_test)\n",
    "X_test_transform = np.round(X_test_transform, 2)\n",
    "\n",
    "\n",
    "# Transform y back to the original text using dict 0 is Iris-setosa, 1 is Iris-versicolor, 2 is Iris-virginica\n",
    "dictPetal = {0: 'Iris-setosa', 1: 'Iris-versicolor', 2: 'Iris-virginica'}\n",
    "y_pred_result = np.vectorize(dictPetal.get)(y_pred_result)\n",
    "y_test_result = np.vectorize(dictPetal.get)(y_test_result)\n",
    "\n",
    "comparison = np.concatenate((X_test_transform, y_pred_result.reshape(-1, 1), y_test_result.reshape(-1, 1)), axis=1)\n",
    "comparison = pd.DataFrame(comparison, columns=['Sepal Length', 'Sepal Width', 'Petal Length', 'Petal Width', 'Predicted', 'Actual'])\n",
    "comparison[:30]"
   ],
   "metadata": {
    "collapsed": false,
    "ExecuteTime": {
     "end_time": "2024-06-19T04:20:33.413702Z",
     "start_time": "2024-06-19T04:20:33.306961Z"
    }
   },
   "id": "cb6464945842f68b",
   "execution_count": 14
  }
 ],
 "metadata": {
  "kernelspec": {
   "display_name": "Python 3",
   "language": "python",
   "name": "python3"
  },
  "language_info": {
   "codemirror_mode": {
    "name": "ipython",
    "version": 2
   },
   "file_extension": ".py",
   "mimetype": "text/x-python",
   "name": "python",
   "nbconvert_exporter": "python",
   "pygments_lexer": "ipython2",
   "version": "2.7.6"
  }
 },
 "nbformat": 4,
 "nbformat_minor": 5
}
